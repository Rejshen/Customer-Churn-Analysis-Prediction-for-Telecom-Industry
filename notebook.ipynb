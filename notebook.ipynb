{
 "cells": [
  {
   "cell_type": "markdown",
   "id": "eac4d47e",
   "metadata": {},
   "source": [
    "# **Customer Churn Analysis & Prediction for Telecom Industry**"
   ]
  },
  {
   "cell_type": "markdown",
   "id": "af3e2170",
   "metadata": {},
   "source": [
    "### **Goal:**  \n",
    "\n",
    "This report aims to analyze customer behavior and identify patterns that contribute to customer churn in a telecom company. By exploring demographic and service usage data, we will:\n",
    "\n",
    "* Understand what types of customers are more likely to leave.\n",
    "\n",
    "* Build a predictive model to identify high-risk customers.\n",
    "\n",
    "* Provide actionable business insights to reduce churn and improve retention strategies."
   ]
  },
  {
   "cell_type": "markdown",
   "id": "57327c27",
   "metadata": {},
   "source": [
    "### **Executive Summary**\n",
    "\n",
    "*Customers with short tenures, month-to-month contracts, and high monthly charges are the most at risk of churning. Offering better onboarding, encouraging long-term contracts, and enhancing perceived service value (such as free tech support) are potential strategies to reduce churn.*"
   ]
  },
  {
   "cell_type": "markdown",
   "id": "393de9f8",
   "metadata": {},
   "source": [
    "#### **Q – Question** "
   ]
  },
  {
   "cell_type": "markdown",
   "id": "5e85ee07",
   "metadata": {},
   "source": [
    "* How can we predict customer churn based on historical usage and account data?\n",
    "\n",
    "* What are the key reasons why customers are leaving?"
   ]
  },
  {
   "cell_type": "markdown",
   "id": "65c53574",
   "metadata": {},
   "source": [
    "#### **D – Data** "
   ]
  },
  {
   "cell_type": "code",
   "execution_count": 1,
   "id": "76e6ddf9",
   "metadata": {},
   "outputs": [
    {
     "data": {
      "text/html": [
       "<div>\n",
       "<style scoped>\n",
       "    .dataframe tbody tr th:only-of-type {\n",
       "        vertical-align: middle;\n",
       "    }\n",
       "\n",
       "    .dataframe tbody tr th {\n",
       "        vertical-align: top;\n",
       "    }\n",
       "\n",
       "    .dataframe thead th {\n",
       "        text-align: right;\n",
       "    }\n",
       "</style>\n",
       "<table border=\"1\" class=\"dataframe\">\n",
       "  <thead>\n",
       "    <tr style=\"text-align: right;\">\n",
       "      <th></th>\n",
       "      <th>CustomerID</th>\n",
       "      <th>Age</th>\n",
       "      <th>Gender</th>\n",
       "      <th>Tenure</th>\n",
       "      <th>MonthlyCharges</th>\n",
       "      <th>ContractType</th>\n",
       "      <th>InternetService</th>\n",
       "      <th>TotalCharges</th>\n",
       "      <th>TechSupport</th>\n",
       "      <th>Churn</th>\n",
       "    </tr>\n",
       "  </thead>\n",
       "  <tbody>\n",
       "    <tr>\n",
       "      <th>0</th>\n",
       "      <td>1</td>\n",
       "      <td>49</td>\n",
       "      <td>Male</td>\n",
       "      <td>4</td>\n",
       "      <td>88.35</td>\n",
       "      <td>Month-to-Month</td>\n",
       "      <td>Fiber Optic</td>\n",
       "      <td>353.40</td>\n",
       "      <td>Yes</td>\n",
       "      <td>Yes</td>\n",
       "    </tr>\n",
       "    <tr>\n",
       "      <th>1</th>\n",
       "      <td>2</td>\n",
       "      <td>43</td>\n",
       "      <td>Male</td>\n",
       "      <td>0</td>\n",
       "      <td>36.67</td>\n",
       "      <td>Month-to-Month</td>\n",
       "      <td>Fiber Optic</td>\n",
       "      <td>0.00</td>\n",
       "      <td>Yes</td>\n",
       "      <td>Yes</td>\n",
       "    </tr>\n",
       "    <tr>\n",
       "      <th>2</th>\n",
       "      <td>3</td>\n",
       "      <td>51</td>\n",
       "      <td>Female</td>\n",
       "      <td>2</td>\n",
       "      <td>63.79</td>\n",
       "      <td>Month-to-Month</td>\n",
       "      <td>Fiber Optic</td>\n",
       "      <td>127.58</td>\n",
       "      <td>No</td>\n",
       "      <td>Yes</td>\n",
       "    </tr>\n",
       "    <tr>\n",
       "      <th>3</th>\n",
       "      <td>4</td>\n",
       "      <td>60</td>\n",
       "      <td>Female</td>\n",
       "      <td>8</td>\n",
       "      <td>102.34</td>\n",
       "      <td>One-Year</td>\n",
       "      <td>DSL</td>\n",
       "      <td>818.72</td>\n",
       "      <td>Yes</td>\n",
       "      <td>Yes</td>\n",
       "    </tr>\n",
       "    <tr>\n",
       "      <th>4</th>\n",
       "      <td>5</td>\n",
       "      <td>42</td>\n",
       "      <td>Male</td>\n",
       "      <td>32</td>\n",
       "      <td>69.01</td>\n",
       "      <td>Month-to-Month</td>\n",
       "      <td>None</td>\n",
       "      <td>2208.32</td>\n",
       "      <td>No</td>\n",
       "      <td>Yes</td>\n",
       "    </tr>\n",
       "  </tbody>\n",
       "</table>\n",
       "</div>"
      ],
      "text/plain": [
       "   CustomerID  Age  Gender  Tenure  MonthlyCharges    ContractType  \\\n",
       "0           1   49    Male       4           88.35  Month-to-Month   \n",
       "1           2   43    Male       0           36.67  Month-to-Month   \n",
       "2           3   51  Female       2           63.79  Month-to-Month   \n",
       "3           4   60  Female       8          102.34        One-Year   \n",
       "4           5   42    Male      32           69.01  Month-to-Month   \n",
       "\n",
       "  InternetService  TotalCharges TechSupport Churn  \n",
       "0     Fiber Optic        353.40         Yes   Yes  \n",
       "1     Fiber Optic          0.00         Yes   Yes  \n",
       "2     Fiber Optic        127.58          No   Yes  \n",
       "3             DSL        818.72         Yes   Yes  \n",
       "4            None       2208.32          No   Yes  "
      ]
     },
     "execution_count": 1,
     "metadata": {},
     "output_type": "execute_result"
    }
   ],
   "source": [
    "import pandas as pd\n",
    "\n",
    "df = pd.read_csv('customer_churn_data.csv')\n",
    "\n",
    "df.head()\n"
   ]
  },
  {
   "cell_type": "markdown",
   "id": "ca9c9371",
   "metadata": {},
   "source": [
    "##### Cleaning Data"
   ]
  },
  {
   "cell_type": "markdown",
   "id": "b970c83a",
   "metadata": {},
   "source": [
    "Drop CustomerID since it's just an identifier and not useful for prediction."
   ]
  },
  {
   "cell_type": "code",
   "execution_count": 2,
   "id": "cf6a7421",
   "metadata": {},
   "outputs": [],
   "source": [
    "# Step 1: Drop CustomerID\n",
    "df.drop(columns=['CustomerID'], inplace=True)"
   ]
  },
  {
   "cell_type": "markdown",
   "id": "82d63d35",
   "metadata": {},
   "source": [
    "Convert Churn to Binary (Churn is the target column for the following analysis)"
   ]
  },
  {
   "cell_type": "code",
   "execution_count": 3,
   "id": "f1f897e0",
   "metadata": {},
   "outputs": [],
   "source": [
    "# Step 2: Encode Churn column\n",
    "df['Churn'] = df['Churn'].map({'Yes': 1, 'No': 0})\n"
   ]
  },
  {
   "cell_type": "markdown",
   "id": "276d8131",
   "metadata": {},
   "source": [
    "Use pd.get_dummies() and drop the first column to avoid the dummy variable trap."
   ]
  },
  {
   "cell_type": "code",
   "execution_count": 4,
   "id": "5ede902f",
   "metadata": {},
   "outputs": [],
   "source": [
    "# Step 3: One-hot encode categorical variables\n",
    "df = pd.get_dummies(df, columns=['Gender', 'ContractType', 'InternetService', 'TechSupport'], drop_first=True)\n"
   ]
  },
  {
   "cell_type": "markdown",
   "id": "8e298e8e",
   "metadata": {},
   "source": [
    "##### Final Check "
   ]
  },
  {
   "cell_type": "code",
   "execution_count": 5,
   "id": "21c72bf1",
   "metadata": {},
   "outputs": [
    {
     "name": "stdout",
     "output_type": "stream",
     "text": [
      "<class 'pandas.core.frame.DataFrame'>\n",
      "RangeIndex: 1000 entries, 0 to 999\n",
      "Data columns (total 11 columns):\n",
      " #   Column                       Non-Null Count  Dtype  \n",
      "---  ------                       --------------  -----  \n",
      " 0   Age                          1000 non-null   int64  \n",
      " 1   Tenure                       1000 non-null   int64  \n",
      " 2   MonthlyCharges               1000 non-null   float64\n",
      " 3   TotalCharges                 1000 non-null   float64\n",
      " 4   Churn                        1000 non-null   int64  \n",
      " 5   Gender_Male                  1000 non-null   uint8  \n",
      " 6   ContractType_One-Year        1000 non-null   uint8  \n",
      " 7   ContractType_Two-Year        1000 non-null   uint8  \n",
      " 8   InternetService_Fiber Optic  1000 non-null   uint8  \n",
      " 9   InternetService_None         1000 non-null   uint8  \n",
      " 10  TechSupport_Yes              1000 non-null   uint8  \n",
      "dtypes: float64(2), int64(3), uint8(6)\n",
      "memory usage: 45.0 KB\n"
     ]
    }
   ],
   "source": [
    "df.info()"
   ]
  },
  {
   "cell_type": "code",
   "execution_count": 6,
   "id": "69dce4df",
   "metadata": {},
   "outputs": [
    {
     "data": {
      "text/html": [
       "<div>\n",
       "<style scoped>\n",
       "    .dataframe tbody tr th:only-of-type {\n",
       "        vertical-align: middle;\n",
       "    }\n",
       "\n",
       "    .dataframe tbody tr th {\n",
       "        vertical-align: top;\n",
       "    }\n",
       "\n",
       "    .dataframe thead th {\n",
       "        text-align: right;\n",
       "    }\n",
       "</style>\n",
       "<table border=\"1\" class=\"dataframe\">\n",
       "  <thead>\n",
       "    <tr style=\"text-align: right;\">\n",
       "      <th></th>\n",
       "      <th>Age</th>\n",
       "      <th>Tenure</th>\n",
       "      <th>MonthlyCharges</th>\n",
       "      <th>TotalCharges</th>\n",
       "      <th>Churn</th>\n",
       "      <th>Gender_Male</th>\n",
       "      <th>ContractType_One-Year</th>\n",
       "      <th>ContractType_Two-Year</th>\n",
       "      <th>InternetService_Fiber Optic</th>\n",
       "      <th>InternetService_None</th>\n",
       "      <th>TechSupport_Yes</th>\n",
       "    </tr>\n",
       "  </thead>\n",
       "  <tbody>\n",
       "    <tr>\n",
       "      <th>0</th>\n",
       "      <td>49</td>\n",
       "      <td>4</td>\n",
       "      <td>88.35</td>\n",
       "      <td>353.40</td>\n",
       "      <td>1</td>\n",
       "      <td>1</td>\n",
       "      <td>0</td>\n",
       "      <td>0</td>\n",
       "      <td>1</td>\n",
       "      <td>0</td>\n",
       "      <td>1</td>\n",
       "    </tr>\n",
       "    <tr>\n",
       "      <th>1</th>\n",
       "      <td>43</td>\n",
       "      <td>0</td>\n",
       "      <td>36.67</td>\n",
       "      <td>0.00</td>\n",
       "      <td>1</td>\n",
       "      <td>1</td>\n",
       "      <td>0</td>\n",
       "      <td>0</td>\n",
       "      <td>1</td>\n",
       "      <td>0</td>\n",
       "      <td>1</td>\n",
       "    </tr>\n",
       "    <tr>\n",
       "      <th>2</th>\n",
       "      <td>51</td>\n",
       "      <td>2</td>\n",
       "      <td>63.79</td>\n",
       "      <td>127.58</td>\n",
       "      <td>1</td>\n",
       "      <td>0</td>\n",
       "      <td>0</td>\n",
       "      <td>0</td>\n",
       "      <td>1</td>\n",
       "      <td>0</td>\n",
       "      <td>0</td>\n",
       "    </tr>\n",
       "    <tr>\n",
       "      <th>3</th>\n",
       "      <td>60</td>\n",
       "      <td>8</td>\n",
       "      <td>102.34</td>\n",
       "      <td>818.72</td>\n",
       "      <td>1</td>\n",
       "      <td>0</td>\n",
       "      <td>1</td>\n",
       "      <td>0</td>\n",
       "      <td>0</td>\n",
       "      <td>0</td>\n",
       "      <td>1</td>\n",
       "    </tr>\n",
       "    <tr>\n",
       "      <th>4</th>\n",
       "      <td>42</td>\n",
       "      <td>32</td>\n",
       "      <td>69.01</td>\n",
       "      <td>2208.32</td>\n",
       "      <td>1</td>\n",
       "      <td>1</td>\n",
       "      <td>0</td>\n",
       "      <td>0</td>\n",
       "      <td>0</td>\n",
       "      <td>1</td>\n",
       "      <td>0</td>\n",
       "    </tr>\n",
       "    <tr>\n",
       "      <th>5</th>\n",
       "      <td>42</td>\n",
       "      <td>16</td>\n",
       "      <td>119.75</td>\n",
       "      <td>1916.00</td>\n",
       "      <td>1</td>\n",
       "      <td>0</td>\n",
       "      <td>0</td>\n",
       "      <td>1</td>\n",
       "      <td>0</td>\n",
       "      <td>0</td>\n",
       "      <td>1</td>\n",
       "    </tr>\n",
       "    <tr>\n",
       "      <th>6</th>\n",
       "      <td>60</td>\n",
       "      <td>14</td>\n",
       "      <td>80.32</td>\n",
       "      <td>1124.48</td>\n",
       "      <td>1</td>\n",
       "      <td>1</td>\n",
       "      <td>1</td>\n",
       "      <td>0</td>\n",
       "      <td>0</td>\n",
       "      <td>1</td>\n",
       "      <td>0</td>\n",
       "    </tr>\n",
       "    <tr>\n",
       "      <th>7</th>\n",
       "      <td>52</td>\n",
       "      <td>6</td>\n",
       "      <td>58.90</td>\n",
       "      <td>353.40</td>\n",
       "      <td>1</td>\n",
       "      <td>0</td>\n",
       "      <td>1</td>\n",
       "      <td>0</td>\n",
       "      <td>0</td>\n",
       "      <td>1</td>\n",
       "      <td>0</td>\n",
       "    </tr>\n",
       "    <tr>\n",
       "      <th>8</th>\n",
       "      <td>40</td>\n",
       "      <td>53</td>\n",
       "      <td>49.81</td>\n",
       "      <td>2639.93</td>\n",
       "      <td>0</td>\n",
       "      <td>0</td>\n",
       "      <td>0</td>\n",
       "      <td>1</td>\n",
       "      <td>1</td>\n",
       "      <td>0</td>\n",
       "      <td>1</td>\n",
       "    </tr>\n",
       "    <tr>\n",
       "      <th>9</th>\n",
       "      <td>50</td>\n",
       "      <td>10</td>\n",
       "      <td>61.55</td>\n",
       "      <td>615.50</td>\n",
       "      <td>1</td>\n",
       "      <td>0</td>\n",
       "      <td>0</td>\n",
       "      <td>0</td>\n",
       "      <td>1</td>\n",
       "      <td>0</td>\n",
       "      <td>1</td>\n",
       "    </tr>\n",
       "  </tbody>\n",
       "</table>\n",
       "</div>"
      ],
      "text/plain": [
       "   Age  Tenure  MonthlyCharges  TotalCharges  Churn  Gender_Male  \\\n",
       "0   49       4           88.35        353.40      1            1   \n",
       "1   43       0           36.67          0.00      1            1   \n",
       "2   51       2           63.79        127.58      1            0   \n",
       "3   60       8          102.34        818.72      1            0   \n",
       "4   42      32           69.01       2208.32      1            1   \n",
       "5   42      16          119.75       1916.00      1            0   \n",
       "6   60      14           80.32       1124.48      1            1   \n",
       "7   52       6           58.90        353.40      1            0   \n",
       "8   40      53           49.81       2639.93      0            0   \n",
       "9   50      10           61.55        615.50      1            0   \n",
       "\n",
       "   ContractType_One-Year  ContractType_Two-Year  InternetService_Fiber Optic  \\\n",
       "0                      0                      0                            1   \n",
       "1                      0                      0                            1   \n",
       "2                      0                      0                            1   \n",
       "3                      1                      0                            0   \n",
       "4                      0                      0                            0   \n",
       "5                      0                      1                            0   \n",
       "6                      1                      0                            0   \n",
       "7                      1                      0                            0   \n",
       "8                      0                      1                            1   \n",
       "9                      0                      0                            1   \n",
       "\n",
       "   InternetService_None  TechSupport_Yes  \n",
       "0                     0                1  \n",
       "1                     0                1  \n",
       "2                     0                0  \n",
       "3                     0                1  \n",
       "4                     1                0  \n",
       "5                     0                1  \n",
       "6                     1                0  \n",
       "7                     1                0  \n",
       "8                     0                1  \n",
       "9                     0                1  "
      ]
     },
     "execution_count": 6,
     "metadata": {},
     "output_type": "execute_result"
    }
   ],
   "source": [
    "df.head(10)"
   ]
  },
  {
   "cell_type": "markdown",
   "id": "0cacede9",
   "metadata": {},
   "source": [
    "#### **A — Analysis**"
   ]
  },
  {
   "cell_type": "markdown",
   "id": "608c9e78",
   "metadata": {},
   "source": [
    "Useing EDA: Exploratory Data Analysis\n",
    "\n",
    "1: Visualize Churn Distribution"
   ]
  },
  {
   "cell_type": "code",
   "execution_count": 7,
   "id": "dcefe5cd",
   "metadata": {},
   "outputs": [
    {
     "data": {
      "image/png": "[encoded data removed]",
      "text/plain": [
       "<Figure size 432x288 with 1 Axes>"
      ]
     },
     "metadata": {
      "needs_background": "light"
     },
     "output_type": "display_data"
    }
   ],
   "source": [
    "import seaborn as sns\n",
    "import matplotlib.pyplot as plt\n",
    "\n",
    "# Plot churn counts\n",
    "sns.countplot(x ='Churn', data = df)\n",
    "plt.title(\"Customer Churn Distribution\")\n",
    "plt.xticks([0, 1], ['Stayed', 'Churned'])\n",
    "plt.ylabel(\"Number of Customers\")\n",
    "plt.xlabel(\"Churn Status\")\n",
    "plt.show()\n"
   ]
  },
  {
   "cell_type": "markdown",
   "id": "e3e4bfcc",
   "metadata": {},
   "source": [
    "This shows:\n",
    "\n",
    "* How many customers stayed vs. how many left.\n",
    "\n",
    "* Whether your data is imbalanced (which it is)."
   ]
  },
  {
   "cell_type": "markdown",
   "id": "69166671",
   "metadata": {},
   "source": [
    "2: Churn by Contract Type (Understand how contract type affects churn.)\n",
    "\n",
    "*Customers with month-to-month contracts might churn more than those with long-term contracts.*"
   ]
  },
  {
   "cell_type": "code",
   "execution_count": 8,
   "id": "bc817045",
   "metadata": {},
   "outputs": [],
   "source": [
    "# Plot churn rate by contract type\n",
    "contract_cols = [col for col in df.columns if col.startswith('ContractType_')]\n",
    "contract_df = df[['Churn'] + contract_cols]"
   ]
  },
  {
   "cell_type": "code",
   "execution_count": 9,
   "id": "f6aa8b03",
   "metadata": {},
   "outputs": [],
   "source": [
    "# Melt for easier plotting\n",
    "contract_df_melted = contract_df.melt(id_vars='Churn', var_name='ContractType', value_name='Value')\n",
    "contract_df_melted = contract_df_melted[contract_df_melted['Value'] == 1]"
   ]
  },
  {
   "cell_type": "markdown",
   "id": "a87733b2",
   "metadata": {},
   "source": [
    "Melting turns the wide table into a long one, where each row shows:\n",
    "* The churn status\n",
    "* The contract type (one-year or two-year)\n",
    "* And whether the customer had that contract (1 = yes, 0 = no)\n",
    "--------------------------------------------------------------------------------------\n",
    "We only want to keep the rows where Value = 1 (meaning: \"Yes, the customer actually had that contract\").\n",
    "* This makes sure we only analyze real customer-contract matches."
   ]
  },
  {
   "cell_type": "code",
   "execution_count": 10,
   "id": "5033d434",
   "metadata": {},
   "outputs": [
    {
     "data": {
      "image/png": "[encoded data removed]",
      "text/plain": [
       "<Figure size 576x360 with 1 Axes>"
      ]
     },
     "metadata": {
      "needs_background": "light"
     },
     "output_type": "display_data"
    }
   ],
   "source": [
    "# Plot\n",
    "plt.figure(figsize=(8, 5))\n",
    "sns.countplot(data=contract_df_melted, x='ContractType', hue='Churn')\n",
    "plt.title(\"Churn by Contract Type\")\n",
    "plt.xlabel(\"Contract Type\")\n",
    "plt.ylabel(\"Number of Customers\")\n",
    "plt.xticks(ticks=[0, 1], labels=['One-Year', 'Two-Year'])\n",
    "plt.legend(title='Churn', labels=['Stayed', 'Churned'])\n",
    "plt.show()"
   ]
  },
  {
   "cell_type": "markdown",
   "id": "d6fd73b3",
   "metadata": {},
   "source": [
    "This chart shows how many people churned vs. stayed for each contract type.\n",
    "\n",
    "This helps us spot patterns — for example, are customers on shorter contracts more likely to churn?"
   ]
  },
  {
   "cell_type": "markdown",
   "id": "52ba4d82",
   "metadata": {},
   "source": [
    "##### 3: Churn vs. Tenure and Monthly Charges"
   ]
  },
  {
   "cell_type": "markdown",
   "id": "9382e341",
   "metadata": {},
   "source": [
    "Understand how numeric features like:\n",
    "\n",
    "1. Tenure (how long the customer has been with the company)\n",
    "\n",
    "2. MonthlyCharges (how much they pay monthly) relate to churn.\n",
    "\n",
    "Here will use boxplots and histograms to compare customers who stayed vs. churned."
   ]
  },
  {
   "cell_type": "code",
   "execution_count": 11,
   "id": "51e2d72c",
   "metadata": {},
   "outputs": [
    {
     "data": {
      "image/png": "[encoded data removed]",
      "text/plain": [
       "<Figure size 576x360 with 1 Axes>"
      ]
     },
     "metadata": {
      "needs_background": "light"
     },
     "output_type": "display_data"
    }
   ],
   "source": [
    "plt.figure(figsize=(8, 5))\n",
    "sns.boxplot(data=df, x='Churn', y='Tenure')\n",
    "plt.title('Tenure by Churn Status')\n",
    "plt.xlabel('Churn (0 = Stayed, 1 = Churned)')\n",
    "plt.ylabel('Tenure (Months)')\n",
    "plt.show()\n"
   ]
  },
  {
   "cell_type": "markdown",
   "id": "3259ab68",
   "metadata": {},
   "source": [
    "Do churned customers have shorter tenures?\n",
    "\n",
    "*A lower median tenure for churned customers suggests they left early.*"
   ]
  },
  {
   "cell_type": "code",
   "execution_count": 12,
   "id": "fb15efab",
   "metadata": {},
   "outputs": [
    {
     "data": {
      "image/png": "[encoded data removed]",
      "text/plain": [
       "<Figure size 576x360 with 1 Axes>"
      ]
     },
     "metadata": {
      "needs_background": "light"
     },
     "output_type": "display_data"
    }
   ],
   "source": [
    "plt.figure(figsize=(8, 5))\n",
    "sns.boxplot(data=df, x='Churn', y='MonthlyCharges')\n",
    "plt.title('Monthly Charges by Churn Status')\n",
    "plt.xlabel('Churn (0 = Stayed, 1 = Churned)')\n",
    "plt.ylabel('Monthly Charges ($)')\n",
    "plt.show()\n"
   ]
  },
  {
   "cell_type": "markdown",
   "id": "47b5bf3f",
   "metadata": {},
   "source": [
    "##### 4: Correlation Heatmap"
   ]
  },
  {
   "cell_type": "markdown",
   "id": "313709bd",
   "metadata": {},
   "source": [
    "*Visualize the relationship between numeric features and see which ones are strongly linked to churn.*"
   ]
  },
  {
   "cell_type": "code",
   "execution_count": 13,
   "id": "a5ceb07a",
   "metadata": {},
   "outputs": [
    {
     "data": {
      "image/png": "[encoded data removed]",
      "text/plain": [
       "<Figure size 1008x720 with 2 Axes>"
      ]
     },
     "metadata": {
      "needs_background": "light"
     },
     "output_type": "display_data"
    }
   ],
   "source": [
    "# Step 4: Correlation Heatmap (compatible version)\n",
    "plt.figure(figsize=(14, 10))\n",
    "\n",
    "# Select only numeric columns manually (since numeric_only doesn't work here)\n",
    "numeric_df = df.select_dtypes(include=['int64', 'float64'])\n",
    "\n",
    "# Now calculate the correlation\n",
    "corr_matrix = numeric_df.corr()\n",
    "\n",
    "# Plot\n",
    "sns.heatmap(corr_matrix, annot=True, fmt=\".2f\", cmap='coolwarm', square=True, linewidths=.5)\n",
    "plt.title(\" Correlation Heatmap of Features\", fontsize=22)\n",
    "plt.show()\n"
   ]
  },
  {
   "cell_type": "markdown",
   "id": "36527f11",
   "metadata": {},
   "source": [
    "The correlation heatmap provides a visual overview of how strongly different numerical features in the dataset relate to each other, especially to the target variable Churn. \n",
    "\n",
    "Key Findings:\n",
    "* Tenure has a moderate negative correlation with churn → Customers with longer tenures are less likely to leave\n",
    "\n",
    "* ContractType_Two-Year and ContractType_One-Year also show a strong negative correlation with churn\n",
    "→ Long-term contracts significantly reduce churn risk\n",
    "\n",
    "* MonthlyCharges shows a mild positive correlation with churn → Customers paying higher monthly fees may be more likely to churn\n",
    "\n",
    "* TechSupport_Yes has a negative correlation with churn → Having tech support might help reduce churn\n",
    "\n",
    "* gender and some other binary features (e.g., InternetService_DSL) have very weak or no correlation → These features might have less predictive power in the model"
   ]
  },
  {
   "cell_type": "markdown",
   "id": "7880c0cd",
   "metadata": {},
   "source": [
    "#### **V — Visualization**"
   ]
  },
  {
   "cell_type": "markdown",
   "id": "4a0ea1b0",
   "metadata": {},
   "source": [
    "ML Model + Feature Importance"
   ]
  },
  {
   "cell_type": "markdown",
   "id": "1c340097",
   "metadata": {},
   "source": [
    "1: Split the Data (X, y, Train/Test)"
   ]
  },
  {
   "cell_type": "code",
   "execution_count": 15,
   "id": "bbf57668",
   "metadata": {},
   "outputs": [],
   "source": [
    "from sklearn.model_selection import train_test_split\n",
    "\n",
    "# Define X (features) and y (target)\n",
    "X = df.drop('Churn', axis=1)\n",
    "y = df['Churn']\n",
    "\n",
    "# Split into training and test sets (80/20)\n",
    "X_train, X_test, y_train, y_test = train_test_split(X, y, test_size=0.2, random_state=42)\n"
   ]
  },
  {
   "cell_type": "markdown",
   "id": "04ca6257",
   "metadata": {},
   "source": [
    "2: Train the Random Forest Model"
   ]
  },
  {
   "cell_type": "code",
   "execution_count": 16,
   "id": "22bd2d4c",
   "metadata": {},
   "outputs": [
    {
     "data": {
      "text/plain": [
       "RandomForestClassifier(random_state=42)"
      ]
     },
     "execution_count": 16,
     "metadata": {},
     "output_type": "execute_result"
    }
   ],
   "source": [
    "from sklearn.ensemble import RandomForestClassifier\n",
    "\n",
    "# Create and train the model\n",
    "model = RandomForestClassifier(n_estimators=100, random_state=42)\n",
    "model.fit(X_train, y_train)"
   ]
  },
  {
   "cell_type": "markdown",
   "id": "6fb6f21c",
   "metadata": {},
   "source": [
    "3: Get Feature Importances"
   ]
  },
  {
   "cell_type": "code",
   "execution_count": 17,
   "id": "95f2d469",
   "metadata": {},
   "outputs": [],
   "source": [
    "import numpy as np\n",
    "\n",
    "# Get feature importance values\n",
    "importances = model.feature_importances_\n",
    "feature_names = X.columns\n",
    "\n",
    "# Create DataFrame for plotting\n",
    "feat_importances = pd.DataFrame({\n",
    "    'Feature': feature_names,\n",
    "    'Importance': importances\n",
    "}).sort_values(by='Importance', ascending=False)\n"
   ]
  },
  {
   "cell_type": "markdown",
   "id": "5b0bf8a6",
   "metadata": {},
   "source": [
    "4: Plot the Top Features"
   ]
  },
  {
   "cell_type": "code",
   "execution_count": null,
   "id": "a46c6022",
   "metadata": {},
   "outputs": [
    {
     "data": {
      "image/png": "[encoded data removed]",
      "text/plain": [
       "<Figure size 720x432 with 1 Axes>"
      ]
     },
     "metadata": {
      "needs_background": "light"
     },
     "output_type": "display_data"
    }
   ],
   "source": [
    "# Plot top 10 features\n",
    "plt.figure(figsize=(10, 6))\n",
    "sns.barplot(x='Importance', y='Feature', data=feat_importances.head(10), palette='viridis')\n",
    "plt.title('Top 10 Important Features for Churn Prediction')\n",
    "plt.xlabel('Feature Importance Score')\n",
    "plt.ylabel('Feature')\n",
    "plt.show()"
   ]
  },
  {
   "cell_type": "markdown",
   "id": "6618e20d",
   "metadata": {},
   "source": [
    "#### **I — Insights**"
   ]
  },
  {
   "cell_type": "markdown",
   "id": "99a0037c",
   "metadata": {},
   "source": [
    "## Key Insights (based on your EDA & Heatmap)"
   ]
  },
  {
   "cell_type": "markdown",
   "id": "03d07057",
   "metadata": {},
   "source": [
    "### Tenure is a Strong Predictor of Churn\n",
    "* Customers with short tenures are far more likely to churn.\n",
    "\n",
    "* The longer a customer stays, the less likely they are to leave.\n",
    "\n",
    "* Business action: Implement loyalty rewards or retention programs to support new customers in their first few months."
   ]
  },
  {
   "cell_type": "markdown",
   "id": "d25fce94",
   "metadata": {},
   "source": [
    "### Contract Type Impacts Churn\n",
    "* Customers on month-to-month contracts are much more likely to churn than those on one-year or two-year contracts.\n",
    "\n",
    "* Business action: Offer discounts or bonuses for customers who switch to longer-term contracts."
   ]
  },
  {
   "cell_type": "markdown",
   "id": "e7f1dc88",
   "metadata": {},
   "source": [
    "### High Monthly Charges Increase Churn Risk\n",
    "* Customers with higher bills show a greater chance of churning.\n",
    "\n",
    "* May indicate dissatisfaction with value for money.\n",
    "\n",
    "* Business action: Review pricing tiers, add more value (e.g., free tech support), or offer tailored promotions to high-spend users."
   ]
  },
  {
   "cell_type": "markdown",
   "id": "88b500c9",
   "metadata": {},
   "source": [
    "### Tech Support Helps Reduce Churn\n",
    "* Customers with tech support are less likely to leave.\n",
    "\n",
    "* Suggests that good customer service = higher retention.\n",
    "\n",
    "* Business action: Promote tech support as a free trial or bundle it with premium plans."
   ]
  },
  {
   "cell_type": "markdown",
   "id": "658db09a",
   "metadata": {},
   "source": [
    "### Demographics (like gender) have Minimal Impact\n",
    "* Gender and similar demographic fields have low correlation with churn.\n",
    "\n",
    "* Focus should remain on contract behavior and service use, not personal attributes."
   ]
  }
 ],
 "metadata": {
  "kernelspec": {
   "display_name": "base",
   "language": "python",
   "name": "python3"
  },
  "language_info": {
   "codemirror_mode": {
    "name": "ipython",
    "version": 3
   },
   "file_extension": ".py",
   "mimetype": "text/x-python",
   "name": "python",
   "nbconvert_exporter": "python",
   "pygments_lexer": "ipython3",
   "version": "3.8.8"
  }
 },
 "nbformat": 4,
 "nbformat_minor": 5
}
